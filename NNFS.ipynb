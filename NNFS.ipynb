{
 "cells": [
  {
   "cell_type": "code",
   "execution_count": 1,
   "metadata": {},
   "outputs": [],
   "source": [
    "import numpy as np\n",
    "import nnfs\n",
    "from nnfs.datasets import spiral_data,vertical_data\n",
    "\n",
    "nnfs.init()"
   ]
  },
  {
   "cell_type": "code",
   "execution_count": 2,
   "metadata": {},
   "outputs": [
    {
     "data": {
      "text/plain": [
       "array([[ 0.17640524,  0.6883151 ],\n",
       "       [ 0.04001572,  0.3652241 ],\n",
       "       [ 0.0978738 ,  0.3729515 ],\n",
       "       [ 0.22408931,  0.5969397 ],\n",
       "       [ 0.1867558 ,  0.38268766],\n",
       "       [-0.09772779,  0.6943621 ],\n",
       "       [ 0.09500884,  0.4586381 ],\n",
       "       [-0.01513572,  0.42525452],\n",
       "       [-0.01032189,  0.69229424],\n",
       "       [ 0.04105985,  0.6480515 ]], dtype=float32)"
      ]
     },
     "execution_count": 2,
     "metadata": {},
     "output_type": "execute_result"
    }
   ],
   "source": [
    "x,y = vertical_data(samples=100, classes=3)\n",
    "x[:10]"
   ]
  },
  {
   "cell_type": "code",
   "execution_count": 3,
   "metadata": {},
   "outputs": [],
   "source": [
    "class Dense_Layer():\n",
    "    def __init__(self,n_input,n_neurons):\n",
    "        self.weights = np.random.randn(n_input,n_neurons)\n",
    "        self.biases = np.zeros((1,n_neurons))\n",
    "        \n",
    "    def forward(self,inputs):\n",
    "        self.inputs = inputs\n",
    "        self.output = np.dot(inputs,self.weights) + self.biases\n",
    "        \n",
    "    def backward(self,dvalues):\n",
    "        self.dbiases = np.sum(dvalues,axis=0,keepdims=True)\n",
    "        self.dweights = np.dot(self.inputs.T,dvalues)\n",
    "        self.dinputs = np.dot(dvalues,self.weights.T)"
   ]
  },
  {
   "cell_type": "code",
   "execution_count": 4,
   "metadata": {},
   "outputs": [],
   "source": [
    "class ReLU():\n",
    "    def forward(self,inputs):\n",
    "        self.inputs = inputs\n",
    "        self.output = np.maximum(0,inputs)\n",
    "        \n",
    "    def backward(self,dvalues):\n",
    "        self.dinputs = dvalues.copy()\n",
    "        self.dinputs[self.inputs <= 0] = 0"
   ]
  },
  {
   "cell_type": "code",
   "execution_count": 5,
   "metadata": {},
   "outputs": [],
   "source": [
    "class Softmax():\n",
    "    def forward(self,inputs):\n",
    "        exp_values = np.exp(inputs - np.max(inputs,axis=1,keepdims=True))\n",
    "        self.output = exp_values/np.sum(exp_values,axis=1,keepdims=True)\n",
    "        \n",
    "    def backward(self, dvalues):\n",
    "        # Create uninitialized array\n",
    "        self.dinputs = np.empty_like(dvalues)\n",
    "        # Enumerate outputs and gradients\n",
    "        for index, (single_output, single_dvalues) in \\\n",
    "            enumerate(zip(self.output, dvalues)):\n",
    "            # Flatten output array\n",
    "            single_output = single_output.reshape(-1, 1)\n",
    "            # Calculate Jacobian matrix of the output and\n",
    "            jacobian_matrix = np.diagflat(single_output) - \\\n",
    "            np.dot(single_output, single_output.T)\n",
    "            # Calculate sample-wise gradient\n",
    "            # and add it to the array of sample gradients\n",
    "            self.dinputs[index] = np.dot(jacobian_matrix,\n",
    "            single_dvalues)"
   ]
  },
  {
   "cell_type": "code",
   "execution_count": 6,
   "metadata": {},
   "outputs": [],
   "source": [
    "class Categorical_Cross_Entropy():\n",
    "    def forward(self,inputs,targets):\n",
    "        clipped_input = np.clip(inputs,1e-7,(1-1e-7))\n",
    "        if (len(targets.shape) == 1):\n",
    "            confidence = np.array(inputs)[range(len(inputs)),targets]\n",
    "        elif (len(targets.shape) == 2):\n",
    "            confidence = np.sum(np.array(inputs)*targets)\n",
    "        \n",
    "        loss = -np.log(confidence)\n",
    "        self.output = np.mean(loss)\n",
    "        \n",
    "    def backward(self,dvalues,y_true):\n",
    "        samples = len(dvalues)\n",
    "        labels = len(dvalues[0])\n",
    "        if len(y_true.shape) == 1:\n",
    "            y_true = np.eye(labels)[y_true]\n",
    "        \n",
    "        self.dinputs = -y_true/dvalues\n",
    "        self.dinputs = self.dinputs/samples"
   ]
  },
  {
   "cell_type": "code",
   "execution_count": 7,
   "metadata": {},
   "outputs": [],
   "source": [
    "def Accuracy_Calculate(inputs,targets):\n",
    "    confidences = np.argmax(inputs,axis=1)\n",
    "    if (len(targets.shape) == 2):\n",
    "        targets = np.argmax(targets,axis=1)\n",
    "        \n",
    "    accuracy = np.mean(confidences==targets)\n",
    "    return accuracy"
   ]
  },
  {
   "cell_type": "code",
   "execution_count": 15,
   "metadata": {},
   "outputs": [
    {
     "name": "stdout",
     "output_type": "stream",
     "text": [
      "[[0.33333334 0.33333334 0.33333334]\n",
      " [0.33695617 0.32418767 0.33885616]\n",
      " [0.33333334 0.33333334 0.33333334]\n",
      " [0.33333334 0.33333334 0.33333334]\n",
      " [0.33333334 0.33333334 0.33333334]]\n",
      "1.0820343\n",
      "0.08333333333333333\n"
     ]
    }
   ],
   "source": [
    "dense1 = Dense_Layer(2,3)\n",
    "dense2 = Dense_Layer(3,3)\n",
    "activation1 = ReLU()\n",
    "activation2 = Softmax()\n",
    "loss = Categorical_Cross_Entropy()\n",
    "\n",
    "dense1.forward(x)\n",
    "activation1.forward(dense1.output)\n",
    "\n",
    "dense2.forward(activation1.output)\n",
    "activation2.forward(dense2.output)\n",
    "print(activation2.output[:5])\n",
    "\n",
    "loss.forward(activation2.output,y)\n",
    "accuracy = Accuracy_Calculate(activation2.output,y)\n",
    "\n",
    "print(loss.output)\n",
    "print(accuracy)"
   ]
  },
  {
   "cell_type": "code",
   "execution_count": 16,
   "metadata": {},
   "outputs": [],
   "source": [
    "dense1 = Dense_Layer(2,3)\n",
    "dense2 = Dense_Layer(3,3)\n",
    "activation1 = ReLU()\n",
    "activation2 = Softmax()\n",
    "loss = Categorical_Cross_Entropy()"
   ]
  },
  {
   "cell_type": "code",
   "execution_count": 18,
   "metadata": {},
   "outputs": [
    {
     "name": "stdout",
     "output_type": "stream",
     "text": [
      "trial - 0, Loss : 0.17628316581249237 , Accuracy : 0.93\n",
      "trial - 18, Loss : 0.17472998797893524 , Accuracy : 0.93\n",
      "trial - 21, Loss : 0.1740097850561142 , Accuracy : 0.93\n",
      "trial - 23, Loss : 0.1739235669374466 , Accuracy : 0.9333333333333333\n",
      "trial - 31, Loss : 0.17391355335712433 , Accuracy : 0.9266666666666666\n",
      "trial - 57, Loss : 0.17365212738513947 , Accuracy : 0.93\n",
      "trial - 103, Loss : 0.1736154854297638 , Accuracy : 0.9266666666666666\n",
      "trial - 124, Loss : 0.17357933521270752 , Accuracy : 0.9333333333333333\n",
      "trial - 265, Loss : 0.17352183163166046 , Accuracy : 0.9366666666666666\n",
      "trial - 427, Loss : 0.17347225546836853 , Accuracy : 0.9333333333333333\n",
      "trial - 504, Loss : 0.1734367161989212 , Accuracy : 0.9366666666666666\n",
      "trial - 964, Loss : 0.17342451214790344 , Accuracy : 0.9333333333333333\n",
      "trial - 1094, Loss : 0.17342229187488556 , Accuracy : 0.9333333333333333\n",
      "trial - 1248, Loss : 0.1733967512845993 , Accuracy : 0.9366666666666666\n",
      "trial - 1338, Loss : 0.1733880639076233 , Accuracy : 0.9366666666666666\n",
      "trial - 1382, Loss : 0.17334774136543274 , Accuracy : 0.93\n",
      "trial - 3605, Loss : 0.1732841283082962 , Accuracy : 0.9366666666666666\n",
      "trial - 8518, Loss : 0.1732688695192337 , Accuracy : 0.9333333333333333\n"
     ]
    }
   ],
   "source": [
    "best_loss = 999999\n",
    "best_weight_1 = dense1.weights.copy()\n",
    "best_weight_2 = dense2.weights.copy()\n",
    "best_bias_1 = dense1.biases.copy()\n",
    "best_bias_2 = dense2.biases.copy()\n",
    "\n",
    "for i in range(20000):\n",
    "    dense1.weights += 0.05 * np.random.randn(2,3)\n",
    "    dense2.weights += 0.05 * np.random.randn(3,3)\n",
    "    dense1.biases += 0.05 * np.random.randn(1,3)\n",
    "    dense2.biases += 0.05 * np.random.randn(1,3)\n",
    "\n",
    "    dense1.forward(x)\n",
    "    activation1.forward(dense1.output)\n",
    "\n",
    "    dense2.forward(activation1.output)\n",
    "    activation2.forward(dense2.output)\n",
    "\n",
    "    loss.forward(activation2.output,y)\n",
    "    accuracy = Accuracy_Calculate(activation2.output,y)\n",
    "    \n",
    "    if loss.output < best_loss:\n",
    "        print(f\"trial - {i}, Loss : {loss.output} , Accuracy : {accuracy}\")\n",
    "        best_loss = loss.output\n",
    "        best_weight_1 = dense1.weights.copy()\n",
    "        best_weight_2 = dense2.weights.copy()\n",
    "        best_bias_1 = dense1.biases.copy()\n",
    "        best_bias_2 = dense2.biases.copy()\n",
    "        \n",
    "    else:\n",
    "        dense1.weights = best_weight_1.copy()\n",
    "        dense2.weights = best_weight_2.copy()\n",
    "        dense1.biases = best_bias_1.copy()\n",
    "        dense2.biases = best_bias_2.copy()\n"
   ]
  },
  {
   "cell_type": "code",
   "execution_count": null,
   "metadata": {},
   "outputs": [],
   "source": []
  },
  {
   "cell_type": "code",
   "execution_count": null,
   "metadata": {},
   "outputs": [],
   "source": []
  },
  {
   "cell_type": "code",
   "execution_count": null,
   "metadata": {},
   "outputs": [],
   "source": []
  },
  {
   "cell_type": "code",
   "execution_count": null,
   "metadata": {},
   "outputs": [],
   "source": []
  },
  {
   "cell_type": "code",
   "execution_count": null,
   "metadata": {},
   "outputs": [],
   "source": []
  },
  {
   "cell_type": "code",
   "execution_count": null,
   "metadata": {},
   "outputs": [],
   "source": []
  },
  {
   "cell_type": "code",
   "execution_count": null,
   "metadata": {},
   "outputs": [],
   "source": []
  },
  {
   "cell_type": "code",
   "execution_count": null,
   "metadata": {},
   "outputs": [],
   "source": []
  },
  {
   "cell_type": "code",
   "execution_count": null,
   "metadata": {},
   "outputs": [],
   "source": []
  },
  {
   "cell_type": "code",
   "execution_count": null,
   "metadata": {},
   "outputs": [],
   "source": []
  }
 ],
 "metadata": {
  "kernelspec": {
   "display_name": "Python 3.10.8 64-bit",
   "language": "python",
   "name": "python3"
  },
  "language_info": {
   "codemirror_mode": {
    "name": "ipython",
    "version": 3
   },
   "file_extension": ".py",
   "mimetype": "text/x-python",
   "name": "python",
   "nbconvert_exporter": "python",
   "pygments_lexer": "ipython3",
   "version": "3.10.8"
  },
  "orig_nbformat": 4,
  "vscode": {
   "interpreter": {
    "hash": "4e3928333ef3baf314bf795991d5291c1af5f6b41fd2da94a3a1d8c0cbe09cfa"
   }
  }
 },
 "nbformat": 4,
 "nbformat_minor": 2
}
